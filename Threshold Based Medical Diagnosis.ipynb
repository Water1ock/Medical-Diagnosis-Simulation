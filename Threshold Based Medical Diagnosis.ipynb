{
 "cells": [
  {
   "cell_type": "code",
   "execution_count": 1,
   "id": "03669348-e1e6-4e0e-b73d-358b0270387f",
   "metadata": {},
   "outputs": [],
   "source": [
    "import numpy as np"
   ]
  },
  {
   "cell_type": "code",
   "execution_count": 2,
   "id": "0e69acb4-4d24-46d5-ac86-8963669c30b5",
   "metadata": {},
   "outputs": [],
   "source": [
    "class Patient:\n",
    "    def __init__(self, deception_ability):\n",
    "        self.deception_ability = deception_ability  # 0 = bad liar, 1 = perfect liar\n",
    "    \n",
    "    def give_cue(self, task):\n",
    "        if task == \"Be truthful\":\n",
    "            return \"healthy\"  # Always truthful\n",
    "        else:  # Task is \"Deceive\"\n",
    "            return \"healthy\" if np.random.rand() < self.deception_ability else \"unhealthy\""
   ]
  },
  {
   "cell_type": "code",
   "execution_count": 3,
   "id": "9278efeb-e275-49c9-94cc-3d7780c33d9f",
   "metadata": {},
   "outputs": [],
   "source": [
    "class Doctor:\n",
    "    def __init__(self, decision_threshold=0.5):\n",
    "        self.decision_threshold = decision_threshold  # How easily they diagnose \"unhealthy\"\n",
    "    \n",
    "    def diagnose(self, cue):\n",
    "        \"\"\"Simple probabilistic inference based on cues.\"\"\"\n",
    "        if cue == \"healthy\":\n",
    "            prob_unhealthy = 0.2  # Doctor assumes small chance of deception\n",
    "        else:  # Cue is \"unhealthy\"\n",
    "            prob_unhealthy = 0.8  # Doctor assumes high chance of deception\n",
    "        \n",
    "        return \"unhealthy\" if prob_unhealthy > self.decision_threshold else \"healthy\""
   ]
  },
  {
   "cell_type": "code",
   "execution_count": 4,
   "id": "044df015-8363-41d3-b82c-b80f1d117801",
   "metadata": {},
   "outputs": [],
   "source": [
    "# Simulate multiple rounds\n",
    "def simulate_game(n_rounds=10):\n",
    "    patients = [Patient(deception_ability=np.random.uniform(0.2, 0.9)) for _ in range(n_rounds)]\n",
    "    doctor = Doctor()\n",
    "    \n",
    "    for i, patient in enumerate(patients):\n",
    "        task = np.random.choice([\"Be truthful\", \"Deceive\"])\n",
    "        cue = patient.give_cue(task)\n",
    "        diagnosis = doctor.diagnose(cue)\n",
    "        \n",
    "        print(f\"Round {i+1}: Task={task}, Cue={cue}, Diagnosis={diagnosis}, Deception Ability={patient.deception_ability:.2f}\")"
   ]
  },
  {
   "cell_type": "code",
   "execution_count": 5,
   "id": "4c96e9fe-7c0e-4a14-8bb2-22f488fe801a",
   "metadata": {},
   "outputs": [
    {
     "name": "stdout",
     "output_type": "stream",
     "text": [
      "Round 1: Task=Deceive, Cue=unhealthy, Diagnosis=unhealthy, Deception Ability=0.57\n",
      "Round 2: Task=Be truthful, Cue=healthy, Diagnosis=healthy, Deception Ability=0.49\n",
      "Round 3: Task=Be truthful, Cue=healthy, Diagnosis=healthy, Deception Ability=0.56\n",
      "Round 4: Task=Deceive, Cue=unhealthy, Diagnosis=unhealthy, Deception Ability=0.78\n",
      "Round 5: Task=Deceive, Cue=healthy, Diagnosis=healthy, Deception Ability=0.72\n",
      "Round 6: Task=Deceive, Cue=healthy, Diagnosis=healthy, Deception Ability=0.67\n",
      "Round 7: Task=Deceive, Cue=healthy, Diagnosis=healthy, Deception Ability=0.75\n",
      "Round 8: Task=Be truthful, Cue=healthy, Diagnosis=healthy, Deception Ability=0.80\n",
      "Round 9: Task=Be truthful, Cue=healthy, Diagnosis=healthy, Deception Ability=0.89\n",
      "Round 10: Task=Deceive, Cue=unhealthy, Diagnosis=unhealthy, Deception Ability=0.27\n"
     ]
    }
   ],
   "source": [
    "# Run the simulation\n",
    "simulate_game(10)"
   ]
  }
 ],
 "metadata": {
  "kernelspec": {
   "display_name": "Python 3 (ipykernel)",
   "language": "python",
   "name": "python3"
  },
  "language_info": {
   "codemirror_mode": {
    "name": "ipython",
    "version": 3
   },
   "file_extension": ".py",
   "mimetype": "text/x-python",
   "name": "python",
   "nbconvert_exporter": "python",
   "pygments_lexer": "ipython3",
   "version": "3.11.4"
  }
 },
 "nbformat": 4,
 "nbformat_minor": 5
}
